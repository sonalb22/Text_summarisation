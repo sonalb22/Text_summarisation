{
  "nbformat": 4,
  "nbformat_minor": 0,
  "metadata": {
    "colab": {
      "name": "Untitled9.ipynb",
      "provenance": [],
      "authorship_tag": "ABX9TyP0krMMSfhlZjWFlYGVCtqB",
      "include_colab_link": true
    },
    "kernelspec": {
      "name": "python3",
      "display_name": "Python 3"
    }
  },
  "cells": [
    {
      "cell_type": "markdown",
      "metadata": {
        "id": "view-in-github",
        "colab_type": "text"
      },
      "source": [
        "<a href=\"https://colab.research.google.com/github/sonalb22/Text_summarisation/blob/master/Untitled9.ipynb\" target=\"_parent\"><img src=\"https://colab.research.google.com/assets/colab-badge.svg\" alt=\"Open In Colab\"/></a>"
      ]
    },
    {
      "cell_type": "code",
      "metadata": {
        "id": "ScN1eA-ch5aO",
        "colab_type": "code",
        "colab": {}
      },
      "source": [
        "!pip install -U spacy\n",
        "!python -m spacy download en_core_web_sm"
      ],
      "execution_count": 0,
      "outputs": []
    },
    {
      "cell_type": "code",
      "metadata": {
        "id": "CyQ9833BjM7N",
        "colab_type": "code",
        "colab": {}
      },
      "source": [
        "text = \"\"\"I had two fathers, a rich one and a poor one. One was highly educated and intelligent; he had a\n",
        "Ph.D. and completed four years of undergraduate work in less than two years. He then went on\n",
        "to Stanford University, the University of Chicago, and Northwestern University to do his\n",
        "advanced studies, all on full financial scholarships. The other father never finished the eighth\n",
        "grade.\n",
        "Both men were successful in their careers, working hard all their lives. Both earned substantial\n",
        "incomes. Yet one struggled financially all his life. The other would become one of the richest\n",
        "men in Hawaii. One died leaving tens of millions of dollars to his family, charities and his church.\n",
        "The other left bills to be paid.\n",
        "Both men were strong, charismatic and influential. Both men offered me advice, but they did\n",
        "not advise the same things. Both men believed strongly in education but did not recommend the\n",
        "same course of study..\"\"\""
      ],
      "execution_count": 0,
      "outputs": []
    },
    {
      "cell_type": "code",
      "metadata": {
        "id": "KWnAVM2lh8xk",
        "colab_type": "code",
        "colab": {}
      },
      "source": [
        "import spacy \n",
        "from spacy.lang.en.stop_words import STOP_WORDS\n",
        "from string import punctuation"
      ],
      "execution_count": 0,
      "outputs": []
    },
    {
      "cell_type": "code",
      "metadata": {
        "id": "99W3PvWpiZgu",
        "colab_type": "code",
        "colab": {}
      },
      "source": [
        "stopwords = list(STOP_WORDS)"
      ],
      "execution_count": 0,
      "outputs": []
    },
    {
      "cell_type": "code",
      "metadata": {
        "id": "2K2x4xsOiibl",
        "colab_type": "code",
        "colab": {}
      },
      "source": [
        "nlp = spacy.load('en_core_web_sm')"
      ],
      "execution_count": 0,
      "outputs": []
    },
    {
      "cell_type": "code",
      "metadata": {
        "id": "qZHDzdO-ingg",
        "colab_type": "code",
        "colab": {}
      },
      "source": [
        "doc = nlp(text)"
      ],
      "execution_count": 0,
      "outputs": []
    },
    {
      "cell_type": "code",
      "metadata": {
        "id": "hYp2DAjuipyZ",
        "colab_type": "code",
        "colab": {
          "base_uri": "https://localhost:8080/",
          "height": 55
        },
        "outputId": "a14381d0-044f-4b78-be4b-586a8bdb3d17"
      },
      "source": [
        "tokens = [token.text for token in doc]\n",
        "print(tokens)"
      ],
      "execution_count": 39,
      "outputs": [
        {
          "output_type": "stream",
          "text": [
            "['I', 'had', 'two', 'fathers', ',', 'a', 'rich', 'one', 'and', 'a', 'poor', 'one', '.', 'One', 'was', 'highly', 'educated', 'and', 'intelligent', ';', 'he', 'had', 'a', '\\n', 'Ph.D.', 'and', 'completed', 'four', 'years', 'of', 'undergraduate', 'work', 'in', 'less', 'than', 'two', 'years', '.', 'He', 'then', 'went', 'on', '\\n', 'to', 'Stanford', 'University', ',', 'the', 'University', 'of', 'Chicago', ',', 'and', 'Northwestern', 'University', 'to', 'do', 'his', '\\n', 'advanced', 'studies', ',', 'all', 'on', 'full', 'financial', 'scholarships', '.', 'The', 'other', 'father', 'never', 'finished', 'the', 'eighth', '\\n', 'grade', '.', '\\n', 'Both', 'men', 'were', 'successful', 'in', 'their', 'careers', ',', 'working', 'hard', 'all', 'their', 'lives', '.', 'Both', 'earned', 'substantial', '\\n', 'incomes', '.', 'Yet', 'one', 'struggled', 'financially', 'all', 'his', 'life', '.', 'The', 'other', 'would', 'become', 'one', 'of', 'the', 'richest', '\\n', 'men', 'in', 'Hawaii', '.', 'One', 'died', 'leaving', 'tens', 'of', 'millions', 'of', 'dollars', 'to', 'his', 'family', ',', 'charities', 'and', 'his', 'church', '.', '\\n', 'The', 'other', 'left', 'bills', 'to', 'be', 'paid', '.', '\\n', 'Both', 'men', 'were', 'strong', ',', 'charismatic', 'and', 'influential', '.', 'Both', 'men', 'offered', 'me', 'advice', ',', 'but', 'they', 'did', '\\n', 'not', 'advise', 'the', 'same', 'things', '.', 'Both', 'men', 'believed', 'strongly', 'in', 'education', 'but', 'did', 'not', 'recommend', 'the', '\\n', 'same', 'course', 'of', 'study', '..']\n"
          ],
          "name": "stdout"
        }
      ]
    },
    {
      "cell_type": "code",
      "metadata": {
        "id": "4nGoF1vOjriS",
        "colab_type": "code",
        "colab": {
          "base_uri": "https://localhost:8080/",
          "height": 35
        },
        "outputId": "d9f661b9-fc61-45dd-f100-6f00ed28084a"
      },
      "source": [
        "punctuation"
      ],
      "execution_count": 40,
      "outputs": [
        {
          "output_type": "execute_result",
          "data": {
            "text/plain": [
              "'!\"#$%&\\'()*+,-./:;<=>?@[\\\\]^_`{|}~'"
            ]
          },
          "metadata": {
            "tags": []
          },
          "execution_count": 40
        }
      ]
    },
    {
      "cell_type": "code",
      "metadata": {
        "id": "IKxDG8I1jvRs",
        "colab_type": "code",
        "colab": {
          "base_uri": "https://localhost:8080/",
          "height": 35
        },
        "outputId": "2bdc39c8-cb5a-4883-8726-37dd9fcb3548"
      },
      "source": [
        "punctuation = punctuation + '\\n'\n",
        "punctuation"
      ],
      "execution_count": 41,
      "outputs": [
        {
          "output_type": "execute_result",
          "data": {
            "text/plain": [
              "'!\"#$%&\\'()*+,-./:;<=>?@[\\\\]^_`{|}~\\n'"
            ]
          },
          "metadata": {
            "tags": []
          },
          "execution_count": 41
        }
      ]
    },
    {
      "cell_type": "code",
      "metadata": {
        "id": "deBKXgRij5jY",
        "colab_type": "code",
        "colab": {}
      },
      "source": [
        "word_frequencies = {}\n",
        "for word in doc:\n",
        "  if word.text.lower() not in stopwords:\n",
        "    if word.text.lower() not in punctuation:\n",
        "      if word.text not in word_frequencies.keys():\n",
        "        word_frequencies[word.text] = 1\n",
        "      else:\n",
        "        word_frequencies[word.text] +=1\n"
      ],
      "execution_count": 0,
      "outputs": []
    },
    {
      "cell_type": "code",
      "metadata": {
        "id": "Dy56uvThlSZ-",
        "colab_type": "code",
        "colab": {
          "base_uri": "https://localhost:8080/",
          "height": 55
        },
        "outputId": "2b0242b0-c589-4d1d-f22e-ac17f121e6fb"
      },
      "source": [
        "print(word_frequencies)"
      ],
      "execution_count": 43,
      "outputs": [
        {
          "output_type": "stream",
          "text": [
            "{'fathers': 1, 'rich': 1, 'poor': 1, 'highly': 1, 'educated': 1, 'intelligent': 1, 'Ph.D.': 1, 'completed': 1, 'years': 2, 'undergraduate': 1, 'work': 1, 'went': 1, 'Stanford': 1, 'University': 3, 'Chicago': 1, 'Northwestern': 1, 'advanced': 1, 'studies': 1, 'financial': 1, 'scholarships': 1, 'father': 1, 'finished': 1, 'eighth': 1, 'grade': 1, 'men': 5, 'successful': 1, 'careers': 1, 'working': 1, 'hard': 1, 'lives': 1, 'earned': 1, 'substantial': 1, 'incomes': 1, 'struggled': 1, 'financially': 1, 'life': 1, 'richest': 1, 'Hawaii': 1, 'died': 1, 'leaving': 1, 'tens': 1, 'millions': 1, 'dollars': 1, 'family': 1, 'charities': 1, 'church': 1, 'left': 1, 'bills': 1, 'paid': 1, 'strong': 1, 'charismatic': 1, 'influential': 1, 'offered': 1, 'advice': 1, 'advise': 1, 'things': 1, 'believed': 1, 'strongly': 1, 'education': 1, 'recommend': 1, 'course': 1, 'study': 1, '..': 1}\n"
          ],
          "name": "stdout"
        }
      ]
    },
    {
      "cell_type": "code",
      "metadata": {
        "id": "QovV4rvvlc8M",
        "colab_type": "code",
        "colab": {}
      },
      "source": [
        "max_frequency = max(word_frequencies.values())"
      ],
      "execution_count": 0,
      "outputs": []
    },
    {
      "cell_type": "code",
      "metadata": {
        "id": "nNBzbt8mltqM",
        "colab_type": "code",
        "colab": {
          "base_uri": "https://localhost:8080/",
          "height": 35
        },
        "outputId": "43a8e599-b2cc-4f25-9484-4044195ddf48"
      },
      "source": [
        "max_frequency"
      ],
      "execution_count": 45,
      "outputs": [
        {
          "output_type": "execute_result",
          "data": {
            "text/plain": [
              "5"
            ]
          },
          "metadata": {
            "tags": []
          },
          "execution_count": 45
        }
      ]
    },
    {
      "cell_type": "code",
      "metadata": {
        "id": "Zg1BqaZflwbb",
        "colab_type": "code",
        "colab": {}
      },
      "source": [
        "#normalising frequencies\n",
        "for word in word_frequencies.keys():\n",
        "  word_frequencies[word] = word_frequencies[word]/max_frequency"
      ],
      "execution_count": 0,
      "outputs": []
    },
    {
      "cell_type": "code",
      "metadata": {
        "id": "d_ZNIbEMmNmi",
        "colab_type": "code",
        "colab": {
          "base_uri": "https://localhost:8080/",
          "height": 55
        },
        "outputId": "eb56eb88-3aa3-4471-ec3d-c4ede0f45392"
      },
      "source": [
        "print(word_frequencies)"
      ],
      "execution_count": 47,
      "outputs": [
        {
          "output_type": "stream",
          "text": [
            "{'fathers': 0.2, 'rich': 0.2, 'poor': 0.2, 'highly': 0.2, 'educated': 0.2, 'intelligent': 0.2, 'Ph.D.': 0.2, 'completed': 0.2, 'years': 0.4, 'undergraduate': 0.2, 'work': 0.2, 'went': 0.2, 'Stanford': 0.2, 'University': 0.6, 'Chicago': 0.2, 'Northwestern': 0.2, 'advanced': 0.2, 'studies': 0.2, 'financial': 0.2, 'scholarships': 0.2, 'father': 0.2, 'finished': 0.2, 'eighth': 0.2, 'grade': 0.2, 'men': 1.0, 'successful': 0.2, 'careers': 0.2, 'working': 0.2, 'hard': 0.2, 'lives': 0.2, 'earned': 0.2, 'substantial': 0.2, 'incomes': 0.2, 'struggled': 0.2, 'financially': 0.2, 'life': 0.2, 'richest': 0.2, 'Hawaii': 0.2, 'died': 0.2, 'leaving': 0.2, 'tens': 0.2, 'millions': 0.2, 'dollars': 0.2, 'family': 0.2, 'charities': 0.2, 'church': 0.2, 'left': 0.2, 'bills': 0.2, 'paid': 0.2, 'strong': 0.2, 'charismatic': 0.2, 'influential': 0.2, 'offered': 0.2, 'advice': 0.2, 'advise': 0.2, 'things': 0.2, 'believed': 0.2, 'strongly': 0.2, 'education': 0.2, 'recommend': 0.2, 'course': 0.2, 'study': 0.2, '..': 0.2}\n"
          ],
          "name": "stdout"
        }
      ]
    },
    {
      "cell_type": "code",
      "metadata": {
        "id": "EZj1-noBmXex",
        "colab_type": "code",
        "colab": {
          "base_uri": "https://localhost:8080/",
          "height": 237
        },
        "outputId": "8e0e77d2-ae35-4df3-f67a-60fdfc114a7a"
      },
      "source": [
        "sentence_tokens = [sent for sent in doc.sents]\n",
        "print(sentence_tokens)"
      ],
      "execution_count": 48,
      "outputs": [
        {
          "output_type": "stream",
          "text": [
            "[I had two fathers, a rich one and a poor one., One was highly educated and intelligent; he had a\n",
            "Ph.D. and completed four years of undergraduate work in less than two years., He then went on\n",
            "to Stanford University, the University of Chicago, and Northwestern University to do his\n",
            "advanced studies, all on full financial scholarships., The other father never finished the eighth\n",
            "grade.\n",
            ", Both men were successful in their careers, working hard all their lives., Both earned substantial\n",
            "incomes., Yet one struggled financially all his life., The other would become one of the richest\n",
            "men in Hawaii., One died leaving tens of millions of dollars to his family, charities and his church.\n",
            ", The other left bills to be paid.\n",
            ", Both men were strong, charismatic and influential., Both men offered me advice, but they did\n",
            "not advise the same things., Both men believed strongly in education but did not recommend the\n",
            "same course of study..]\n"
          ],
          "name": "stdout"
        }
      ]
    },
    {
      "cell_type": "code",
      "metadata": {
        "id": "7IMw7bhpmoHQ",
        "colab_type": "code",
        "colab": {}
      },
      "source": [
        "#calculating score of each sentence based of the frequency of words in it\n",
        "sentence_scores = {}\n",
        "for sent in sentence_tokens:\n",
        "  for word in sent:\n",
        "    if word.text.lower() in word_frequencies.keys():\n",
        "      if sent not in sentence_scores.keys():\n",
        "        sentence_scores[sent] = word_frequencies[word.text.lower()]\n",
        "      else:\n",
        "        sentence_scores[sent] += word_frequencies[word.text.lower()] "
      ],
      "execution_count": 0,
      "outputs": []
    },
    {
      "cell_type": "code",
      "metadata": {
        "id": "lTpV3dfQnvuL",
        "colab_type": "code",
        "colab": {
          "base_uri": "https://localhost:8080/",
          "height": 403
        },
        "outputId": "807f76bf-ec91-4655-9aaa-91c994b61d2d"
      },
      "source": [
        "sentence_scores"
      ],
      "execution_count": 50,
      "outputs": [
        {
          "output_type": "execute_result",
          "data": {
            "text/plain": [
              "{I had two fathers, a rich one and a poor one.: 0.6000000000000001,\n",
              " One was highly educated and intelligent; he had a\n",
              " Ph.D. and completed four years of undergraduate work in less than two years.: 2.0,\n",
              " He then went on\n",
              " to Stanford University, the University of Chicago, and Northwestern University to do his\n",
              " advanced studies, all on full financial scholarships.: 1.0,\n",
              " The other father never finished the eighth\n",
              " grade.: 0.8,\n",
              " Both men were successful in their careers, working hard all their lives.: 1.9999999999999998,\n",
              " Both earned substantial\n",
              " incomes.: 0.6000000000000001,\n",
              " Yet one struggled financially all his life.: 0.6000000000000001,\n",
              " The other would become one of the richest\n",
              " men in Hawaii.: 1.2,\n",
              " One died leaving tens of millions of dollars to his family, charities and his church.: 1.5999999999999999,\n",
              " The other left bills to be paid.: 0.6000000000000001,\n",
              " Both men were strong, charismatic and influential.: 1.5999999999999999,\n",
              " Both men offered me advice, but they did\n",
              " not advise the same things.: 1.7999999999999998,\n",
              " Both men believed strongly in education but did not recommend the\n",
              " same course of study..: 2.4}"
            ]
          },
          "metadata": {
            "tags": []
          },
          "execution_count": 50
        }
      ]
    },
    {
      "cell_type": "code",
      "metadata": {
        "id": "IjzY1dNdnyik",
        "colab_type": "code",
        "colab": {}
      },
      "source": [
        "from heapq import nlargest"
      ],
      "execution_count": 0,
      "outputs": []
    },
    {
      "cell_type": "code",
      "metadata": {
        "id": "B_lDaNGGoJ-B",
        "colab_type": "code",
        "colab": {
          "base_uri": "https://localhost:8080/",
          "height": 35
        },
        "outputId": "afd384e0-4b47-428b-8230-673dc809d81d"
      },
      "source": [
        "#get 30% of sentence with max score\n",
        "select_length = int(len(sentence_tokens)*0.3)\n",
        "select_length"
      ],
      "execution_count": 53,
      "outputs": [
        {
          "output_type": "execute_result",
          "data": {
            "text/plain": [
              "3"
            ]
          },
          "metadata": {
            "tags": []
          },
          "execution_count": 53
        }
      ]
    },
    {
      "cell_type": "code",
      "metadata": {
        "id": "bwqhUCjXoVPL",
        "colab_type": "code",
        "colab": {}
      },
      "source": [
        "summary = nlargest(select_length,sentence_scores,key = sentence_scores.get)"
      ],
      "execution_count": 0,
      "outputs": []
    },
    {
      "cell_type": "code",
      "metadata": {
        "id": "Pzr3vpHKo5yx",
        "colab_type": "code",
        "colab": {
          "base_uri": "https://localhost:8080/",
          "height": 72
        },
        "outputId": "ba5e266c-46f5-42f7-8287-316bd1b2ed20"
      },
      "source": [
        "summary"
      ],
      "execution_count": 55,
      "outputs": [
        {
          "output_type": "execute_result",
          "data": {
            "text/plain": [
              "[Both men believed strongly in education but did not recommend the\n",
              " same course of study.., One was highly educated and intelligent; he had a\n",
              " Ph.D. and completed four years of undergraduate work in less than two years., Both men were successful in their careers, working hard all their lives.]"
            ]
          },
          "metadata": {
            "tags": []
          },
          "execution_count": 55
        }
      ]
    },
    {
      "cell_type": "code",
      "metadata": {
        "id": "rDJ0SYEko6hB",
        "colab_type": "code",
        "colab": {}
      },
      "source": [
        "final_summary = [word.text for word in summary]"
      ],
      "execution_count": 0,
      "outputs": []
    },
    {
      "cell_type": "code",
      "metadata": {
        "id": "m_kLrlBopC1Q",
        "colab_type": "code",
        "colab": {}
      },
      "source": [
        "summary = ' '.join(final_summary)"
      ],
      "execution_count": 0,
      "outputs": []
    },
    {
      "cell_type": "code",
      "metadata": {
        "id": "gr7xeI_3pLJ1",
        "colab_type": "code",
        "colab": {
          "base_uri": "https://localhost:8080/",
          "height": 237
        },
        "outputId": "48ca0575-355b-4236-fd06-31387c920633"
      },
      "source": [
        "print(text)"
      ],
      "execution_count": 58,
      "outputs": [
        {
          "output_type": "stream",
          "text": [
            "I had two fathers, a rich one and a poor one. One was highly educated and intelligent; he had a\n",
            "Ph.D. and completed four years of undergraduate work in less than two years. He then went on\n",
            "to Stanford University, the University of Chicago, and Northwestern University to do his\n",
            "advanced studies, all on full financial scholarships. The other father never finished the eighth\n",
            "grade.\n",
            "Both men were successful in their careers, working hard all their lives. Both earned substantial\n",
            "incomes. Yet one struggled financially all his life. The other would become one of the richest\n",
            "men in Hawaii. One died leaving tens of millions of dollars to his family, charities and his church.\n",
            "The other left bills to be paid.\n",
            "Both men were strong, charismatic and influential. Both men offered me advice, but they did\n",
            "not advise the same things. Both men believed strongly in education but did not recommend the\n",
            "same course of study..\n"
          ],
          "name": "stdout"
        }
      ]
    },
    {
      "cell_type": "code",
      "metadata": {
        "id": "1Lhb2o-npNVK",
        "colab_type": "code",
        "colab": {
          "base_uri": "https://localhost:8080/",
          "height": 72
        },
        "outputId": "e1108687-987c-41f6-ad9a-a249a2ec0f19"
      },
      "source": [
        "print(summary)"
      ],
      "execution_count": 59,
      "outputs": [
        {
          "output_type": "stream",
          "text": [
            "Both men believed strongly in education but did not recommend the\n",
            "same course of study.. One was highly educated and intelligent; he had a\n",
            "Ph.D. and completed four years of undergraduate work in less than two years. Both men were successful in their careers, working hard all their lives.\n"
          ],
          "name": "stdout"
        }
      ]
    },
    {
      "cell_type": "code",
      "metadata": {
        "id": "RRJi-5_XpPdk",
        "colab_type": "code",
        "colab": {
          "base_uri": "https://localhost:8080/",
          "height": 35
        },
        "outputId": "d075da8d-b836-4bb0-9f0e-133ac9aeaa4a"
      },
      "source": [
        "len(text)"
      ],
      "execution_count": 60,
      "outputs": [
        {
          "output_type": "execute_result",
          "data": {
            "text/plain": [
              "916"
            ]
          },
          "metadata": {
            "tags": []
          },
          "execution_count": 60
        }
      ]
    },
    {
      "cell_type": "code",
      "metadata": {
        "id": "40QBNxcnpQ8e",
        "colab_type": "code",
        "colab": {
          "base_uri": "https://localhost:8080/",
          "height": 35
        },
        "outputId": "e7aba2b3-88b4-4bdd-9c44-a09447ddb714"
      },
      "source": [
        "len(summary)"
      ],
      "execution_count": 61,
      "outputs": [
        {
          "output_type": "execute_result",
          "data": {
            "text/plain": [
              "288"
            ]
          },
          "metadata": {
            "tags": []
          },
          "execution_count": 61
        }
      ]
    }
  ]
}